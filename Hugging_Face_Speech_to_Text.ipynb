{
  "nbformat": 4,
  "nbformat_minor": 0,
  "metadata": {
    "colab": {
      "provenance": [],
      "authorship_tag": "ABX9TyNumUK5+6QG7iGIWcbSe6XG",
      "include_colab_link": true
    },
    "kernelspec": {
      "name": "python3",
      "display_name": "Python 3"
    },
    "language_info": {
      "name": "python"
    },
    "widgets": {
      "application/vnd.jupyter.widget-state+json": {
        "d8ce06a96a524dc2b2d7c3a03ef14577": {
          "model_module": "@jupyter-widgets/controls",
          "model_name": "HBoxModel",
          "model_module_version": "1.5.0",
          "state": {
            "_dom_classes": [],
            "_model_module": "@jupyter-widgets/controls",
            "_model_module_version": "1.5.0",
            "_model_name": "HBoxModel",
            "_view_count": null,
            "_view_module": "@jupyter-widgets/controls",
            "_view_module_version": "1.5.0",
            "_view_name": "HBoxView",
            "box_style": "",
            "children": [
              "IPY_MODEL_d9c755bd66c04d47bd07600b7242f1af",
              "IPY_MODEL_a659adfa1824468980a8fe1f4f793af9",
              "IPY_MODEL_c41bf1c447054372947d5feda2d14343"
            ],
            "layout": "IPY_MODEL_17295533bc264bea9424d86d18774267"
          }
        },
        "d9c755bd66c04d47bd07600b7242f1af": {
          "model_module": "@jupyter-widgets/controls",
          "model_name": "HTMLModel",
          "model_module_version": "1.5.0",
          "state": {
            "_dom_classes": [],
            "_model_module": "@jupyter-widgets/controls",
            "_model_module_version": "1.5.0",
            "_model_name": "HTMLModel",
            "_view_count": null,
            "_view_module": "@jupyter-widgets/controls",
            "_view_module_version": "1.5.0",
            "_view_name": "HTMLView",
            "description": "",
            "description_tooltip": null,
            "layout": "IPY_MODEL_6c66bc57b15e4e0e87787b11fd8e5592",
            "placeholder": "​",
            "style": "IPY_MODEL_e5ee60fcf4484bbfb10b99fceec284a0",
            "value": "model.safetensors: 100%"
          }
        },
        "a659adfa1824468980a8fe1f4f793af9": {
          "model_module": "@jupyter-widgets/controls",
          "model_name": "FloatProgressModel",
          "model_module_version": "1.5.0",
          "state": {
            "_dom_classes": [],
            "_model_module": "@jupyter-widgets/controls",
            "_model_module_version": "1.5.0",
            "_model_name": "FloatProgressModel",
            "_view_count": null,
            "_view_module": "@jupyter-widgets/controls",
            "_view_module_version": "1.5.0",
            "_view_name": "ProgressView",
            "bar_style": "success",
            "description": "",
            "description_tooltip": null,
            "layout": "IPY_MODEL_fc9f5f275a2643f08d8b6a79b0b1c27f",
            "max": 377607901,
            "min": 0,
            "orientation": "horizontal",
            "style": "IPY_MODEL_baa270904c7e42b981061d3f5b0c8379",
            "value": 377607901
          }
        },
        "c41bf1c447054372947d5feda2d14343": {
          "model_module": "@jupyter-widgets/controls",
          "model_name": "HTMLModel",
          "model_module_version": "1.5.0",
          "state": {
            "_dom_classes": [],
            "_model_module": "@jupyter-widgets/controls",
            "_model_module_version": "1.5.0",
            "_model_name": "HTMLModel",
            "_view_count": null,
            "_view_module": "@jupyter-widgets/controls",
            "_view_module_version": "1.5.0",
            "_view_name": "HTMLView",
            "description": "",
            "description_tooltip": null,
            "layout": "IPY_MODEL_9b4c858a73dc46b9a56b1df2105e680e",
            "placeholder": "​",
            "style": "IPY_MODEL_861c07fdcd58403dbefcdfb1af864c7f",
            "value": " 378M/378M [00:05&lt;00:00, 84.8MB/s]"
          }
        },
        "17295533bc264bea9424d86d18774267": {
          "model_module": "@jupyter-widgets/base",
          "model_name": "LayoutModel",
          "model_module_version": "1.2.0",
          "state": {
            "_model_module": "@jupyter-widgets/base",
            "_model_module_version": "1.2.0",
            "_model_name": "LayoutModel",
            "_view_count": null,
            "_view_module": "@jupyter-widgets/base",
            "_view_module_version": "1.2.0",
            "_view_name": "LayoutView",
            "align_content": null,
            "align_items": null,
            "align_self": null,
            "border": null,
            "bottom": null,
            "display": null,
            "flex": null,
            "flex_flow": null,
            "grid_area": null,
            "grid_auto_columns": null,
            "grid_auto_flow": null,
            "grid_auto_rows": null,
            "grid_column": null,
            "grid_gap": null,
            "grid_row": null,
            "grid_template_areas": null,
            "grid_template_columns": null,
            "grid_template_rows": null,
            "height": null,
            "justify_content": null,
            "justify_items": null,
            "left": null,
            "margin": null,
            "max_height": null,
            "max_width": null,
            "min_height": null,
            "min_width": null,
            "object_fit": null,
            "object_position": null,
            "order": null,
            "overflow": null,
            "overflow_x": null,
            "overflow_y": null,
            "padding": null,
            "right": null,
            "top": null,
            "visibility": null,
            "width": null
          }
        },
        "6c66bc57b15e4e0e87787b11fd8e5592": {
          "model_module": "@jupyter-widgets/base",
          "model_name": "LayoutModel",
          "model_module_version": "1.2.0",
          "state": {
            "_model_module": "@jupyter-widgets/base",
            "_model_module_version": "1.2.0",
            "_model_name": "LayoutModel",
            "_view_count": null,
            "_view_module": "@jupyter-widgets/base",
            "_view_module_version": "1.2.0",
            "_view_name": "LayoutView",
            "align_content": null,
            "align_items": null,
            "align_self": null,
            "border": null,
            "bottom": null,
            "display": null,
            "flex": null,
            "flex_flow": null,
            "grid_area": null,
            "grid_auto_columns": null,
            "grid_auto_flow": null,
            "grid_auto_rows": null,
            "grid_column": null,
            "grid_gap": null,
            "grid_row": null,
            "grid_template_areas": null,
            "grid_template_columns": null,
            "grid_template_rows": null,
            "height": null,
            "justify_content": null,
            "justify_items": null,
            "left": null,
            "margin": null,
            "max_height": null,
            "max_width": null,
            "min_height": null,
            "min_width": null,
            "object_fit": null,
            "object_position": null,
            "order": null,
            "overflow": null,
            "overflow_x": null,
            "overflow_y": null,
            "padding": null,
            "right": null,
            "top": null,
            "visibility": null,
            "width": null
          }
        },
        "e5ee60fcf4484bbfb10b99fceec284a0": {
          "model_module": "@jupyter-widgets/controls",
          "model_name": "DescriptionStyleModel",
          "model_module_version": "1.5.0",
          "state": {
            "_model_module": "@jupyter-widgets/controls",
            "_model_module_version": "1.5.0",
            "_model_name": "DescriptionStyleModel",
            "_view_count": null,
            "_view_module": "@jupyter-widgets/base",
            "_view_module_version": "1.2.0",
            "_view_name": "StyleView",
            "description_width": ""
          }
        },
        "fc9f5f275a2643f08d8b6a79b0b1c27f": {
          "model_module": "@jupyter-widgets/base",
          "model_name": "LayoutModel",
          "model_module_version": "1.2.0",
          "state": {
            "_model_module": "@jupyter-widgets/base",
            "_model_module_version": "1.2.0",
            "_model_name": "LayoutModel",
            "_view_count": null,
            "_view_module": "@jupyter-widgets/base",
            "_view_module_version": "1.2.0",
            "_view_name": "LayoutView",
            "align_content": null,
            "align_items": null,
            "align_self": null,
            "border": null,
            "bottom": null,
            "display": null,
            "flex": null,
            "flex_flow": null,
            "grid_area": null,
            "grid_auto_columns": null,
            "grid_auto_flow": null,
            "grid_auto_rows": null,
            "grid_column": null,
            "grid_gap": null,
            "grid_row": null,
            "grid_template_areas": null,
            "grid_template_columns": null,
            "grid_template_rows": null,
            "height": null,
            "justify_content": null,
            "justify_items": null,
            "left": null,
            "margin": null,
            "max_height": null,
            "max_width": null,
            "min_height": null,
            "min_width": null,
            "object_fit": null,
            "object_position": null,
            "order": null,
            "overflow": null,
            "overflow_x": null,
            "overflow_y": null,
            "padding": null,
            "right": null,
            "top": null,
            "visibility": null,
            "width": null
          }
        },
        "baa270904c7e42b981061d3f5b0c8379": {
          "model_module": "@jupyter-widgets/controls",
          "model_name": "ProgressStyleModel",
          "model_module_version": "1.5.0",
          "state": {
            "_model_module": "@jupyter-widgets/controls",
            "_model_module_version": "1.5.0",
            "_model_name": "ProgressStyleModel",
            "_view_count": null,
            "_view_module": "@jupyter-widgets/base",
            "_view_module_version": "1.2.0",
            "_view_name": "StyleView",
            "bar_color": null,
            "description_width": ""
          }
        },
        "9b4c858a73dc46b9a56b1df2105e680e": {
          "model_module": "@jupyter-widgets/base",
          "model_name": "LayoutModel",
          "model_module_version": "1.2.0",
          "state": {
            "_model_module": "@jupyter-widgets/base",
            "_model_module_version": "1.2.0",
            "_model_name": "LayoutModel",
            "_view_count": null,
            "_view_module": "@jupyter-widgets/base",
            "_view_module_version": "1.2.0",
            "_view_name": "LayoutView",
            "align_content": null,
            "align_items": null,
            "align_self": null,
            "border": null,
            "bottom": null,
            "display": null,
            "flex": null,
            "flex_flow": null,
            "grid_area": null,
            "grid_auto_columns": null,
            "grid_auto_flow": null,
            "grid_auto_rows": null,
            "grid_column": null,
            "grid_gap": null,
            "grid_row": null,
            "grid_template_areas": null,
            "grid_template_columns": null,
            "grid_template_rows": null,
            "height": null,
            "justify_content": null,
            "justify_items": null,
            "left": null,
            "margin": null,
            "max_height": null,
            "max_width": null,
            "min_height": null,
            "min_width": null,
            "object_fit": null,
            "object_position": null,
            "order": null,
            "overflow": null,
            "overflow_x": null,
            "overflow_y": null,
            "padding": null,
            "right": null,
            "top": null,
            "visibility": null,
            "width": null
          }
        },
        "861c07fdcd58403dbefcdfb1af864c7f": {
          "model_module": "@jupyter-widgets/controls",
          "model_name": "DescriptionStyleModel",
          "model_module_version": "1.5.0",
          "state": {
            "_model_module": "@jupyter-widgets/controls",
            "_model_module_version": "1.5.0",
            "_model_name": "DescriptionStyleModel",
            "_view_count": null,
            "_view_module": "@jupyter-widgets/base",
            "_view_module_version": "1.2.0",
            "_view_name": "StyleView",
            "description_width": ""
          }
        }
      }
    }
  },
  "cells": [
    {
      "cell_type": "markdown",
      "metadata": {
        "id": "view-in-github",
        "colab_type": "text"
      },
      "source": [
        "<a href=\"https://colab.research.google.com/github/shereenm88/Data-Analysis-NanoDegree/blob/main/Hugging_Face_Speech_to_Text.ipynb\" target=\"_parent\"><img src=\"https://colab.research.google.com/assets/colab-badge.svg\" alt=\"Open In Colab\"/></a>"
      ]
    },
    {
      "cell_type": "code",
      "execution_count": 1,
      "metadata": {
        "colab": {
          "base_uri": "https://localhost:8080/"
        },
        "id": "AHD9EwgZpMrX",
        "outputId": "a812b2f6-d32b-416e-c5f9-cb2634e51f23"
      },
      "outputs": [
        {
          "output_type": "stream",
          "name": "stdout",
          "text": [
            "Requirement already satisfied: transformers in /usr/local/lib/python3.10/dist-packages (4.44.2)\n",
            "Requirement already satisfied: filelock in /usr/local/lib/python3.10/dist-packages (from transformers) (3.16.1)\n",
            "Requirement already satisfied: huggingface-hub<1.0,>=0.23.2 in /usr/local/lib/python3.10/dist-packages (from transformers) (0.24.7)\n",
            "Requirement already satisfied: numpy>=1.17 in /usr/local/lib/python3.10/dist-packages (from transformers) (1.26.4)\n",
            "Requirement already satisfied: packaging>=20.0 in /usr/local/lib/python3.10/dist-packages (from transformers) (24.1)\n",
            "Requirement already satisfied: pyyaml>=5.1 in /usr/local/lib/python3.10/dist-packages (from transformers) (6.0.2)\n",
            "Requirement already satisfied: regex!=2019.12.17 in /usr/local/lib/python3.10/dist-packages (from transformers) (2024.9.11)\n",
            "Requirement already satisfied: requests in /usr/local/lib/python3.10/dist-packages (from transformers) (2.32.3)\n",
            "Requirement already satisfied: safetensors>=0.4.1 in /usr/local/lib/python3.10/dist-packages (from transformers) (0.4.5)\n",
            "Requirement already satisfied: tokenizers<0.20,>=0.19 in /usr/local/lib/python3.10/dist-packages (from transformers) (0.19.1)\n",
            "Requirement already satisfied: tqdm>=4.27 in /usr/local/lib/python3.10/dist-packages (from transformers) (4.66.6)\n",
            "Requirement already satisfied: fsspec>=2023.5.0 in /usr/local/lib/python3.10/dist-packages (from huggingface-hub<1.0,>=0.23.2->transformers) (2024.10.0)\n",
            "Requirement already satisfied: typing-extensions>=3.7.4.3 in /usr/local/lib/python3.10/dist-packages (from huggingface-hub<1.0,>=0.23.2->transformers) (4.12.2)\n",
            "Requirement already satisfied: charset-normalizer<4,>=2 in /usr/local/lib/python3.10/dist-packages (from requests->transformers) (3.4.0)\n",
            "Requirement already satisfied: idna<4,>=2.5 in /usr/local/lib/python3.10/dist-packages (from requests->transformers) (3.10)\n",
            "Requirement already satisfied: urllib3<3,>=1.21.1 in /usr/local/lib/python3.10/dist-packages (from requests->transformers) (2.2.3)\n",
            "Requirement already satisfied: certifi>=2017.4.17 in /usr/local/lib/python3.10/dist-packages (from requests->transformers) (2024.8.30)\n"
          ]
        }
      ],
      "source": [
        "pip install transformers"
      ]
    },
    {
      "cell_type": "code",
      "source": [
        "from transformers import pipeline"
      ],
      "metadata": {
        "id": "qgsYiw9npeLJ"
      },
      "execution_count": 2,
      "outputs": []
    },
    {
      "cell_type": "code",
      "source": [
        "import transformers\n",
        "print(transformers.__version__)"
      ],
      "metadata": {
        "id": "PB5lfOzNp44n"
      },
      "execution_count": null,
      "outputs": []
    },
    {
      "cell_type": "code",
      "source": [
        "!pip install ipython"
      ],
      "metadata": {
        "colab": {
          "base_uri": "https://localhost:8080/"
        },
        "id": "aTYFIHO_SkEj",
        "outputId": "775cdd0e-ffa3-445d-b2d3-fe892e628e95"
      },
      "execution_count": 5,
      "outputs": [
        {
          "output_type": "stream",
          "name": "stdout",
          "text": [
            "Requirement already satisfied: ipython in /usr/local/lib/python3.10/dist-packages (7.34.0)\n",
            "Requirement already satisfied: setuptools>=18.5 in /usr/local/lib/python3.10/dist-packages (from ipython) (75.1.0)\n",
            "Collecting jedi>=0.16 (from ipython)\n",
            "  Downloading jedi-0.19.1-py2.py3-none-any.whl.metadata (22 kB)\n",
            "Requirement already satisfied: decorator in /usr/local/lib/python3.10/dist-packages (from ipython) (4.4.2)\n",
            "Requirement already satisfied: pickleshare in /usr/local/lib/python3.10/dist-packages (from ipython) (0.7.5)\n",
            "Requirement already satisfied: traitlets>=4.2 in /usr/local/lib/python3.10/dist-packages (from ipython) (5.7.1)\n",
            "Requirement already satisfied: prompt-toolkit!=3.0.0,!=3.0.1,<3.1.0,>=2.0.0 in /usr/local/lib/python3.10/dist-packages (from ipython) (3.0.48)\n",
            "Requirement already satisfied: pygments in /usr/local/lib/python3.10/dist-packages (from ipython) (2.18.0)\n",
            "Requirement already satisfied: backcall in /usr/local/lib/python3.10/dist-packages (from ipython) (0.2.0)\n",
            "Requirement already satisfied: matplotlib-inline in /usr/local/lib/python3.10/dist-packages (from ipython) (0.1.7)\n",
            "Requirement already satisfied: pexpect>4.3 in /usr/local/lib/python3.10/dist-packages (from ipython) (4.9.0)\n",
            "Requirement already satisfied: parso<0.9.0,>=0.8.3 in /usr/local/lib/python3.10/dist-packages (from jedi>=0.16->ipython) (0.8.4)\n",
            "Requirement already satisfied: ptyprocess>=0.5 in /usr/local/lib/python3.10/dist-packages (from pexpect>4.3->ipython) (0.7.0)\n",
            "Requirement already satisfied: wcwidth in /usr/local/lib/python3.10/dist-packages (from prompt-toolkit!=3.0.0,!=3.0.1,<3.1.0,>=2.0.0->ipython) (0.2.13)\n",
            "Downloading jedi-0.19.1-py2.py3-none-any.whl (1.6 MB)\n",
            "\u001b[2K   \u001b[90m━━━━━━━━━━━━━━━━━━━━━━━━━━━━━━━━━━━━━━━━\u001b[0m \u001b[32m1.6/1.6 MB\u001b[0m \u001b[31m22.6 MB/s\u001b[0m eta \u001b[36m0:00:00\u001b[0m\n",
            "\u001b[?25hInstalling collected packages: jedi\n",
            "Successfully installed jedi-0.19.1\n"
          ]
        }
      ]
    },
    {
      "cell_type": "code",
      "source": [
        "!pip install transformers"
      ],
      "metadata": {
        "colab": {
          "base_uri": "https://localhost:8080/"
        },
        "id": "ZtSpnB3WSxcY",
        "outputId": "78dd0953-7866-4ef9-869f-8842949f54fa"
      },
      "execution_count": 8,
      "outputs": [
        {
          "output_type": "stream",
          "name": "stdout",
          "text": [
            "Requirement already satisfied: transformers in /usr/local/lib/python3.10/dist-packages (4.44.2)\n",
            "Requirement already satisfied: filelock in /usr/local/lib/python3.10/dist-packages (from transformers) (3.16.1)\n",
            "Requirement already satisfied: huggingface-hub<1.0,>=0.23.2 in /usr/local/lib/python3.10/dist-packages (from transformers) (0.24.7)\n",
            "Requirement already satisfied: numpy>=1.17 in /usr/local/lib/python3.10/dist-packages (from transformers) (1.26.4)\n",
            "Requirement already satisfied: packaging>=20.0 in /usr/local/lib/python3.10/dist-packages (from transformers) (24.1)\n",
            "Requirement already satisfied: pyyaml>=5.1 in /usr/local/lib/python3.10/dist-packages (from transformers) (6.0.2)\n",
            "Requirement already satisfied: regex!=2019.12.17 in /usr/local/lib/python3.10/dist-packages (from transformers) (2024.9.11)\n",
            "Requirement already satisfied: requests in /usr/local/lib/python3.10/dist-packages (from transformers) (2.32.3)\n",
            "Requirement already satisfied: safetensors>=0.4.1 in /usr/local/lib/python3.10/dist-packages (from transformers) (0.4.5)\n",
            "Requirement already satisfied: tokenizers<0.20,>=0.19 in /usr/local/lib/python3.10/dist-packages (from transformers) (0.19.1)\n",
            "Requirement already satisfied: tqdm>=4.27 in /usr/local/lib/python3.10/dist-packages (from transformers) (4.66.6)\n",
            "Requirement already satisfied: fsspec>=2023.5.0 in /usr/local/lib/python3.10/dist-packages (from huggingface-hub<1.0,>=0.23.2->transformers) (2024.10.0)\n",
            "Requirement already satisfied: typing-extensions>=3.7.4.3 in /usr/local/lib/python3.10/dist-packages (from huggingface-hub<1.0,>=0.23.2->transformers) (4.12.2)\n",
            "Requirement already satisfied: charset-normalizer<4,>=2 in /usr/local/lib/python3.10/dist-packages (from requests->transformers) (3.4.0)\n",
            "Requirement already satisfied: idna<4,>=2.5 in /usr/local/lib/python3.10/dist-packages (from requests->transformers) (3.10)\n",
            "Requirement already satisfied: urllib3<3,>=1.21.1 in /usr/local/lib/python3.10/dist-packages (from requests->transformers) (2.2.3)\n",
            "Requirement already satisfied: certifi>=2017.4.17 in /usr/local/lib/python3.10/dist-packages (from requests->transformers) (2024.8.30)\n"
          ]
        }
      ]
    },
    {
      "cell_type": "code",
      "source": [
        "import librosa #extract audo features from audio files and it can manipulate audio files in a variety of formats such as wav, MP3\n",
        "import torch #libraru used for applications such as computer vision and NLP\n",
        "import IPython.display as display #interactive command line for Python\n",
        "from transformers import Wav2Vec2ForCTC, Wav2Vec2Tokenizer\n",
        "import numpy as np #metricies, arrays and so on\n"
      ],
      "metadata": {
        "id": "yjx-yU6nqKNZ"
      },
      "execution_count": 10,
      "outputs": []
    },
    {
      "cell_type": "code",
      "source": [
        "tokenizer = Wav2Vec2Tokenizer.from_pretrained(\"facebook/wav2vec2-base-960h\")\n",
        "model = Wav2Vec2ForCTC.from_pretrained(\"facebook/wav2vec2-base-960h\")"
      ],
      "metadata": {
        "colab": {
          "base_uri": "https://localhost:8080/",
          "height": 208,
          "referenced_widgets": [
            "d8ce06a96a524dc2b2d7c3a03ef14577",
            "d9c755bd66c04d47bd07600b7242f1af",
            "a659adfa1824468980a8fe1f4f793af9",
            "c41bf1c447054372947d5feda2d14343",
            "17295533bc264bea9424d86d18774267",
            "6c66bc57b15e4e0e87787b11fd8e5592",
            "e5ee60fcf4484bbfb10b99fceec284a0",
            "fc9f5f275a2643f08d8b6a79b0b1c27f",
            "baa270904c7e42b981061d3f5b0c8379",
            "9b4c858a73dc46b9a56b1df2105e680e",
            "861c07fdcd58403dbefcdfb1af864c7f"
          ]
        },
        "id": "omwV3APZRtf0",
        "outputId": "f1496c20-8560-4781-efb1-d0ba0fa19131"
      },
      "execution_count": 12,
      "outputs": [
        {
          "output_type": "stream",
          "name": "stderr",
          "text": [
            "The tokenizer class you load from this checkpoint is not the same type as the class this function is called from. It may result in unexpected tokenization. \n",
            "The tokenizer class you load from this checkpoint is 'Wav2Vec2CTCTokenizer'. \n",
            "The class this function is called from is 'Wav2Vec2Tokenizer'.\n"
          ]
        },
        {
          "output_type": "display_data",
          "data": {
            "text/plain": [
              "model.safetensors:   0%|          | 0.00/378M [00:00<?, ?B/s]"
            ],
            "application/vnd.jupyter.widget-view+json": {
              "version_major": 2,
              "version_minor": 0,
              "model_id": "d8ce06a96a524dc2b2d7c3a03ef14577"
            }
          },
          "metadata": {}
        },
        {
          "output_type": "stream",
          "name": "stderr",
          "text": [
            "Some weights of the model checkpoint at facebook/wav2vec2-base-960h were not used when initializing Wav2Vec2ForCTC: ['wav2vec2.encoder.pos_conv_embed.conv.weight_g', 'wav2vec2.encoder.pos_conv_embed.conv.weight_v']\n",
            "- This IS expected if you are initializing Wav2Vec2ForCTC from the checkpoint of a model trained on another task or with another architecture (e.g. initializing a BertForSequenceClassification model from a BertForPreTraining model).\n",
            "- This IS NOT expected if you are initializing Wav2Vec2ForCTC from the checkpoint of a model that you expect to be exactly identical (initializing a BertForSequenceClassification model from a BertForSequenceClassification model).\n",
            "Some weights of Wav2Vec2ForCTC were not initialized from the model checkpoint at facebook/wav2vec2-base-960h and are newly initialized: ['wav2vec2.encoder.pos_conv_embed.conv.parametrizations.weight.original0', 'wav2vec2.encoder.pos_conv_embed.conv.parametrizations.weight.original1', 'wav2vec2.masked_spec_embed']\n",
            "You should probably TRAIN this model on a down-stream task to be able to use it for predictions and inference.\n"
          ]
        }
      ]
    },
    {
      "cell_type": "code",
      "source": [
        "audio, sampling_rate = librosa.load('/quothello-therequot-158832.mp3', sr = 16000)\n"
      ],
      "metadata": {
        "id": "VAtsb_sYTc_d"
      },
      "execution_count": 14,
      "outputs": []
    },
    {
      "cell_type": "code",
      "source": [
        "audio, sampling_rate"
      ],
      "metadata": {
        "colab": {
          "base_uri": "https://localhost:8080/"
        },
        "id": "VW9MF7hKU2EI",
        "outputId": "66922de3-19dc-4995-e09e-858108d49a4d"
      },
      "execution_count": 15,
      "outputs": [
        {
          "output_type": "execute_result",
          "data": {
            "text/plain": [
              "(array([-3.1075795e-24,  1.5527254e-24, -5.2678388e-24, ...,\n",
              "         0.0000000e+00,  0.0000000e+00,  0.0000000e+00], dtype=float32),\n",
              " 16000)"
            ]
          },
          "metadata": {},
          "execution_count": 15
        }
      ]
    },
    {
      "cell_type": "code",
      "source": [
        "display.Audio('/quothello-therequot-158832.mp3', autoplay=True)"
      ],
      "metadata": {
        "colab": {
          "base_uri": "https://localhost:8080/",
          "height": 75
        },
        "id": "jlOpUkHvU8Rt",
        "outputId": "aab3f5f8-66e5-4f48-d5d7-b42b439051ab"
      },
      "execution_count": 16,
      "outputs": [
        {
          "output_type": "execute_result",
          "data": {
            "text/plain": [
              "<IPython.lib.display.Audio object>"
            ],
            "text/html": [
              "\n",
              "                <audio  controls=\"controls\" autoplay=\"autoplay\">\n",
              "                    <source src=\"data:audio/mpeg;base64,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\" type=\"audio/mpeg\" />\n",
              "                    Your browser does not support the audio element.\n",
              "                </audio>\n",
              "              "
            ]
          },
          "metadata": {},
          "execution_count": 16
        }
      ]
    },
    {
      "cell_type": "code",
      "source": [
        "input_values = tokenizer(audio, return_tensors=\"pt\").input_values\n",
        "input_values"
      ],
      "metadata": {
        "colab": {
          "base_uri": "https://localhost:8080/"
        },
        "id": "WkD9hC5bVMDO",
        "outputId": "d6f16e5d-d78e-4ace-b07c-eebea269adff"
      },
      "execution_count": 17,
      "outputs": [
        {
          "output_type": "execute_result",
          "data": {
            "text/plain": [
              "tensor([[0.0014, 0.0014, 0.0014,  ..., 0.0014, 0.0014, 0.0014]])"
            ]
          },
          "metadata": {},
          "execution_count": 17
        }
      ]
    },
    {
      "cell_type": "code",
      "source": [
        "logits = model(input_values).logits\n",
        "logits"
      ],
      "metadata": {
        "colab": {
          "base_uri": "https://localhost:8080/"
        },
        "id": "uV8RtZdAVWFX",
        "outputId": "638e4cc7-515d-49e2-f5b8-78a985a7b3ee"
      },
      "execution_count": 19,
      "outputs": [
        {
          "output_type": "execute_result",
          "data": {
            "text/plain": [
              "tensor([[[ 13.3522, -26.4937, -26.2292,  ...,  -5.8062,  -6.5638,  -5.7964],\n",
              "         [ 13.3612, -26.5225, -26.2542,  ...,  -5.8371,  -6.5616,  -5.8145],\n",
              "         [ 13.3942, -26.5694, -26.3001,  ...,  -5.8596,  -6.5858,  -5.8324],\n",
              "         ...,\n",
              "         [ 13.5660, -26.6483, -26.3816,  ...,  -5.8484,  -6.9503,  -5.6261],\n",
              "         [ 13.4914, -26.6371, -26.3752,  ...,  -5.8783,  -6.9969,  -5.6359],\n",
              "         [ 13.3561, -26.5382, -26.2803,  ...,  -5.8875,  -6.9998,  -5.6557]]],\n",
              "       grad_fn=<ViewBackward0>)"
            ]
          },
          "metadata": {},
          "execution_count": 19
        }
      ]
    },
    {
      "cell_type": "code",
      "source": [
        "#We will store predicted IDs then we will pass the logists to values to soft max to get the predicted value\n",
        "Predicted_ids = torch.argmax(logits, dim=-1)\n",
        "Predicted_ids"
      ],
      "metadata": {
        "colab": {
          "base_uri": "https://localhost:8080/"
        },
        "id": "nFeMJuDEVxGF",
        "outputId": "48d5ea5f-dc2e-4d84-c361-778583a6ceac"
      },
      "execution_count": 20,
      "outputs": [
        {
          "output_type": "execute_result",
          "data": {
            "text/plain": [
              "tensor([[ 0,  0,  0,  0,  0,  0,  0,  0,  0,  0,  0, 11, 11,  0,  7, 15,  0, 15,\n",
              "         15,  0,  8,  0,  0,  0,  4,  0,  6, 11,  0,  0,  0,  5,  0, 13,  0,  4,\n",
              "          4,  4,  4,  4,  0,  0,  0,  0,  0,  0,  0,  0,  0,  0,  0,  0,  0,  0,\n",
              "          0,  0,  0,  0,  0,  0,  0,  0,  0,  0,  0,  0,  0]])"
            ]
          },
          "metadata": {},
          "execution_count": 20
        }
      ]
    },
    {
      "cell_type": "code",
      "source": [
        "transcriptions = tokenizer.decode(Predicted_ids[0])\n",
        "transcriptions"
      ],
      "metadata": {
        "colab": {
          "base_uri": "https://localhost:8080/",
          "height": 35
        },
        "id": "aXTf9sZcV58H",
        "outputId": "6cca669b-dca6-45c5-c514-6deb5acf6971"
      },
      "execution_count": 21,
      "outputs": [
        {
          "output_type": "execute_result",
          "data": {
            "text/plain": [
              "'HALLO THER'"
            ],
            "application/vnd.google.colaboratory.intrinsic+json": {
              "type": "string"
            }
          },
          "metadata": {},
          "execution_count": 21
        }
      ]
    }
  ]
}